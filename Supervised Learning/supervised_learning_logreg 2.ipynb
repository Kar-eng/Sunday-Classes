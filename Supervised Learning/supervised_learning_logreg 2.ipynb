{
 "cells": [
  {
   "cell_type": "markdown",
   "id": "7ba304a1-bfa5-45d4-91c2-6639978b41cf",
   "metadata": {},
   "source": [
    "# Supervised Learning Model"
   ]
  },
  {
   "cell_type": "code",
   "execution_count": 1,
   "id": "4c0c37b2-65be-4cd5-a329-07ce9c0e3585",
   "metadata": {},
   "outputs": [],
   "source": [
    "''' import relevant libraries'''\n",
    "import pandas as pd\n",
    "import seaborn as sns\n",
    "import matplotlib.pyplot as plt\n",
    "import numpy\n",
    "from sklearn.linear_model import LogisticRegression\n",
    "from sklearn.model_selection import train_test_split\n",
    "from sklearn.metrics import accuracy_score, confusion_matrix, precision_score, recall_score,f1_score\n",
    "import statsmodels.formula.api as smf\n",
    "import statsmodels.api\n",
    "from sklearn.preprocessing import MinMaxScaler\n",
    "from sklearn.ensemble import RandomForestRegressor\n",
    "from sklearn.metrics import mean_squared_error"
   ]
  },
  {
   "cell_type": "code",
   "execution_count": 2,
   "id": "bf5d8aaf-74f5-42f4-affb-5d33d469f696",
   "metadata": {},
   "outputs": [],
   "source": [
    "path = \"arrest data .csv\""
   ]
  },
  {
   "cell_type": "code",
   "execution_count": 3,
   "id": "f01bfcb9-c4a7-4c4e-aea5-d6bbb2a0561f",
   "metadata": {},
   "outputs": [],
   "source": [
    "df = pd.read_csv(path)\n",
    "df = df.fillna(0)"
   ]
  },
  {
   "cell_type": "code",
   "execution_count": 4,
   "id": "9f45626d-5657-435e-8ae2-f29caf47fcdf",
   "metadata": {},
   "outputs": [],
   "source": [
    "''' This creates a bin for each age group in the data provinded in the data set\n",
    "\n",
    "    \"Young\" is defined as the ages 17 - 21 years\n",
    "    \"Mid Age\" is defined as ages 21 - 30 years\n",
    "    \"Adult\" is defined as ages 30 - 40 years\n",
    "    \n",
    "'''\n",
    "data = df.copy()\n",
    "bin_labels = [\"Young\", \"Mid\", \"Adult\"]\n",
    "data['age'] = pd.cut(df['age'], bins = [17,21,30,40], labels = bin_labels)"
   ]
  },
  {
   "cell_type": "code",
   "execution_count": 5,
   "id": "a9829edf-d3a5-43c4-b2db-32295a84be7f",
   "metadata": {},
   "outputs": [],
   "source": [
    "data = pd.get_dummies(data)"
   ]
  },
  {
   "cell_type": "code",
   "execution_count": 6,
   "id": "68d3f89b-c517-4a1b-a9c2-09884efd85f2",
   "metadata": {},
   "outputs": [],
   "source": [
    "employment_cols = [\"emp\" + str(i) for i in range(2, 25)] + [\"emp\" + str(i) for i in range(26, 52)]\n",
    "columns_to_drop = employment_cols  # List the column names to be dropped\n",
    "data = data.drop(columns=columns_to_drop)"
   ]
  },
  {
   "cell_type": "code",
   "execution_count": 7,
   "id": "6c21d156-6b97-4d6e-a248-ac9c027c6081",
   "metadata": {},
   "outputs": [],
   "source": [
    "''' Import train_test_split for the supervised learning\n",
    "    \n",
    "    This model is going to predict week of rearrest, given the other inputs such as age, race, etc\n",
    "    \n",
    "    '''\n",
    "X = data.drop(['arrest'], axis=1)\n",
    "y = data['arrest']\n",
    "X_train, X_test, y_train, y_test = train_test_split(X, y, test_size=0.4, random_state=111)"
   ]
  },
  {
   "cell_type": "code",
   "execution_count": 8,
   "id": "d069a7e2-92d5-4a5d-81aa-d2bc92db6eed",
   "metadata": {},
   "outputs": [
    {
     "data": {
      "text/html": [
       "<style>#sk-container-id-1 {color: black;background-color: white;}#sk-container-id-1 pre{padding: 0;}#sk-container-id-1 div.sk-toggleable {background-color: white;}#sk-container-id-1 label.sk-toggleable__label {cursor: pointer;display: block;width: 100%;margin-bottom: 0;padding: 0.3em;box-sizing: border-box;text-align: center;}#sk-container-id-1 label.sk-toggleable__label-arrow:before {content: \"▸\";float: left;margin-right: 0.25em;color: #696969;}#sk-container-id-1 label.sk-toggleable__label-arrow:hover:before {color: black;}#sk-container-id-1 div.sk-estimator:hover label.sk-toggleable__label-arrow:before {color: black;}#sk-container-id-1 div.sk-toggleable__content {max-height: 0;max-width: 0;overflow: hidden;text-align: left;background-color: #f0f8ff;}#sk-container-id-1 div.sk-toggleable__content pre {margin: 0.2em;color: black;border-radius: 0.25em;background-color: #f0f8ff;}#sk-container-id-1 input.sk-toggleable__control:checked~div.sk-toggleable__content {max-height: 200px;max-width: 100%;overflow: auto;}#sk-container-id-1 input.sk-toggleable__control:checked~label.sk-toggleable__label-arrow:before {content: \"▾\";}#sk-container-id-1 div.sk-estimator input.sk-toggleable__control:checked~label.sk-toggleable__label {background-color: #d4ebff;}#sk-container-id-1 div.sk-label input.sk-toggleable__control:checked~label.sk-toggleable__label {background-color: #d4ebff;}#sk-container-id-1 input.sk-hidden--visually {border: 0;clip: rect(1px 1px 1px 1px);clip: rect(1px, 1px, 1px, 1px);height: 1px;margin: -1px;overflow: hidden;padding: 0;position: absolute;width: 1px;}#sk-container-id-1 div.sk-estimator {font-family: monospace;background-color: #f0f8ff;border: 1px dotted black;border-radius: 0.25em;box-sizing: border-box;margin-bottom: 0.5em;}#sk-container-id-1 div.sk-estimator:hover {background-color: #d4ebff;}#sk-container-id-1 div.sk-parallel-item::after {content: \"\";width: 100%;border-bottom: 1px solid gray;flex-grow: 1;}#sk-container-id-1 div.sk-label:hover label.sk-toggleable__label {background-color: #d4ebff;}#sk-container-id-1 div.sk-serial::before {content: \"\";position: absolute;border-left: 1px solid gray;box-sizing: border-box;top: 0;bottom: 0;left: 50%;z-index: 0;}#sk-container-id-1 div.sk-serial {display: flex;flex-direction: column;align-items: center;background-color: white;padding-right: 0.2em;padding-left: 0.2em;position: relative;}#sk-container-id-1 div.sk-item {position: relative;z-index: 1;}#sk-container-id-1 div.sk-parallel {display: flex;align-items: stretch;justify-content: center;background-color: white;position: relative;}#sk-container-id-1 div.sk-item::before, #sk-container-id-1 div.sk-parallel-item::before {content: \"\";position: absolute;border-left: 1px solid gray;box-sizing: border-box;top: 0;bottom: 0;left: 50%;z-index: -1;}#sk-container-id-1 div.sk-parallel-item {display: flex;flex-direction: column;z-index: 1;position: relative;background-color: white;}#sk-container-id-1 div.sk-parallel-item:first-child::after {align-self: flex-end;width: 50%;}#sk-container-id-1 div.sk-parallel-item:last-child::after {align-self: flex-start;width: 50%;}#sk-container-id-1 div.sk-parallel-item:only-child::after {width: 0;}#sk-container-id-1 div.sk-dashed-wrapped {border: 1px dashed gray;margin: 0 0.4em 0.5em 0.4em;box-sizing: border-box;padding-bottom: 0.4em;background-color: white;}#sk-container-id-1 div.sk-label label {font-family: monospace;font-weight: bold;display: inline-block;line-height: 1.2em;}#sk-container-id-1 div.sk-label-container {text-align: center;}#sk-container-id-1 div.sk-container {/* jupyter's `normalize.less` sets `[hidden] { display: none; }` but bootstrap.min.css set `[hidden] { display: none !important; }` so we also need the `!important` here to be able to override the default hidden behavior on the sphinx rendered scikit-learn.org. See: https://github.com/scikit-learn/scikit-learn/issues/21755 */display: inline-block !important;position: relative;}#sk-container-id-1 div.sk-text-repr-fallback {display: none;}</style><div id=\"sk-container-id-1\" class=\"sk-top-container\"><div class=\"sk-text-repr-fallback\"><pre>LogisticRegression(max_iter=10000)</pre><b>In a Jupyter environment, please rerun this cell to show the HTML representation or trust the notebook. <br />On GitHub, the HTML representation is unable to render, please try loading this page with nbviewer.org.</b></div><div class=\"sk-container\" hidden><div class=\"sk-item\"><div class=\"sk-estimator sk-toggleable\"><input class=\"sk-toggleable__control sk-hidden--visually\" id=\"sk-estimator-id-1\" type=\"checkbox\" checked><label for=\"sk-estimator-id-1\" class=\"sk-toggleable__label sk-toggleable__label-arrow\">LogisticRegression</label><div class=\"sk-toggleable__content\"><pre>LogisticRegression(max_iter=10000)</pre></div></div></div></div></div>"
      ],
      "text/plain": [
       "LogisticRegression(max_iter=10000)"
      ]
     },
     "execution_count": 8,
     "metadata": {},
     "output_type": "execute_result"
    }
   ],
   "source": [
    "'''max iteration set to 10,000 because the data did not \n",
    "   converge within the maximum number of iterations using LogisticRegression()'''\n",
    "\n",
    "logreg = LogisticRegression(max_iter=10000)\n",
    "logreg.fit(X_train, y_train)"
   ]
  },
  {
   "cell_type": "code",
   "execution_count": 9,
   "id": "1b01176a-c64e-432a-9a6d-446c1ade7290",
   "metadata": {},
   "outputs": [],
   "source": [
    "def get_scores(y_true, y_pred):\n",
    "    '''\n",
    "    Return model evaluation metrics required\n",
    "    '''\n",
    "    return {\n",
    "      'accuracy': accuracy_score(y_true, y_pred),\n",
    "      'precision': precision_score(y_true, y_pred),\n",
    "      'recall': recall_score(y_true, y_pred),\n",
    "      'f1': f1_score(y_true, y_pred)\n",
    "    }"
   ]
  },
  {
   "cell_type": "code",
   "execution_count": 14,
   "id": "6b86e101-c8e9-4cca-8568-6543595fdd86",
   "metadata": {},
   "outputs": [
    {
     "data": {
      "text/plain": [
       "{'accuracy': 0.9884393063583815,\n",
       " 'precision': 1.0,\n",
       " 'recall': 0.96,\n",
       " 'f1': 0.9795918367346939}"
      ]
     },
     "execution_count": 14,
     "metadata": {},
     "output_type": "execute_result"
    }
   ],
   "source": [
    "y_pred = logreg.predict(X_test)\n",
    "get_scores(y_test, y_pred)"
   ]
  },
  {
   "cell_type": "code",
   "execution_count": 15,
   "id": "511f0549-8782-452d-b292-eae6c6d8e0d0",
   "metadata": {},
   "outputs": [
    {
     "data": {
      "image/png": "[encoded data removed]",
      "text/plain": [
       "<Figure size 800x600 with 1 Axes>"
      ]
     },
     "metadata": {},
     "output_type": "display_data"
    }
   ],
   "source": [
    "cm = confusion_matrix(y_test, y_pred)\n",
    "plt.figure(figsize=(8, 6))\n",
    "sns.heatmap(cm, annot=True, cmap=\"Blues\", fmt=\"d\", cbar=False)\n",
    "plt.title(\"Confusion Matrix\")\n",
    "plt.xlabel(\"Predicted Labels\")\n",
    "plt.ylabel(\"True Labels\")\n",
    "plt.show()"
   ]
  },
  {
   "cell_type": "code",
   "execution_count": 16,
   "id": "9dc7ac85-af1c-456e-a526-fcc034f1e3f5",
   "metadata": {},
   "outputs": [
    {
     "name": "stdout",
     "output_type": "stream",
     "text": [
      "RMSE 0.0761539359804726\n"
     ]
    }
   ],
   "source": [
    "target_scaler = MinMaxScaler()\n",
    "scale_y_train = target_scaler.fit_transform(y_train.values.reshape(-1,1)).flatten()\n",
    "model = RandomForestRegressor(random_state=42)\n",
    "model.fit(X_train, scale_y_train)\n",
    "y_pred_scaled = model.predict(X_test)\n",
    "y_pred = target_scaler.inverse_transform(y_pred_scaled.reshape(-1,1)).flatten()\n",
    "rmse = mean_squared_error(y_test,y_pred,squared=False)\n",
    "print('RMSE', rmse)"
   ]
  },
  {
   "cell_type": "markdown",
   "id": "2c0cd2ed-89ff-405f-a4bf-4de8b0b6f9d6",
   "metadata": {},
   "source": [
    "# Accuracy\n",
    "The model correctly predicts 98.8%% of the arrest week, given the data. \n",
    "\n",
    "# Precision\n",
    "100% of the predictions made by the model as positives are true positives\n",
    "\n",
    "# Recall\n",
    "Around 96% of the true positive instances are correctly predicted.\n",
    "\n",
    "# F1\n",
    "This represents the harmonic mean of precision and recall. The resulting F1 of 97.95% indicates a balanced performance between the model precision and recall.\n",
    "\n",
    "# RMSE\n",
    "The RMSE of 0.076  indicates that, on average, the predictions the model deviate from the true values by approximately 0.076 units."
   ]
  }
 ],
 "metadata": {
  "kernelspec": {
   "display_name": "Python 3 (ipykernel)",
   "language": "python",
   "name": "python3"
  },
  "language_info": {
   "codemirror_mode": {
    "name": "ipython",
    "version": 3
   },
   "file_extension": ".py",
   "mimetype": "text/x-python",
   "name": "python",
   "nbconvert_exporter": "python",
   "pygments_lexer": "ipython3",
   "version": "3.10.9"
  }
 },
 "nbformat": 4,
 "nbformat_minor": 5
}
