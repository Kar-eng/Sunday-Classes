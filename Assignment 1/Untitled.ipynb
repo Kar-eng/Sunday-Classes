{
 "cells": [
  {
   "cell_type": "code",
   "execution_count": 1,
   "id": "c1b08f02-161d-4758-a728-89ddd05a8642",
   "metadata": {},
   "outputs": [],
   "source": [
    "data_path = \"arrest data.csv\""
   ]
  },
  {
   "cell_type": "code",
   "execution_count": 2,
   "id": "008a06af-4cd1-4345-8128-c995a1ad692e",
   "metadata": {},
   "outputs": [],
   "source": [
    "import pandas as pd\n",
    "df = pd.read_csv(data_path)"
   ]
  },
  {
   "cell_type": "code",
   "execution_count": 4,
   "id": "96507cbe-6681-4dd0-afa1-fe3013160cfb",
   "metadata": {},
   "outputs": [
    {
     "data": {
      "text/plain": [
       "2"
      ]
     },
     "execution_count": 4,
     "metadata": {},
     "output_type": "execute_result"
    }
   ],
   "source": [
    "df['race'].nunique()"
   ]
  },
  {
   "cell_type": "code",
   "execution_count": 5,
   "id": "809577d8-ed3a-48e3-b97d-066767539f5a",
   "metadata": {},
   "outputs": [
    {
     "data": {
      "text/plain": [
       "2"
      ]
     },
     "execution_count": 5,
     "metadata": {},
     "output_type": "execute_result"
    }
   ],
   "source": [
    "df['arrest'].nunique()"
   ]
  },
  {
   "cell_type": "code",
   "execution_count": 6,
   "id": "f84d63d0-69eb-42e8-a35f-0d65d02cb757",
   "metadata": {},
   "outputs": [
    {
     "data": {
      "text/plain": [
       "0    0.736111\n",
       "1    0.263889\n",
       "Name: arrest, dtype: float64"
      ]
     },
     "execution_count": 6,
     "metadata": {},
     "output_type": "execute_result"
    }
   ],
   "source": [
    "df['arrest'].value_counts(normalize=True)"
   ]
  },
  {
   "cell_type": "code",
   "execution_count": 7,
   "id": "5a849d21-00b2-4ef9-a692-cd2f07f35332",
   "metadata": {},
   "outputs": [
    {
     "name": "stdout",
     "output_type": "stream",
     "text": [
      "<class 'pandas.core.frame.DataFrame'>\n",
      "RangeIndex: 432 entries, 0 to 431\n",
      "Data columns (total 62 columns):\n",
      " #   Column  Non-Null Count  Dtype  \n",
      "---  ------  --------------  -----  \n",
      " 0   week    432 non-null    int64  \n",
      " 1   arrest  432 non-null    int64  \n",
      " 2   fin     432 non-null    int64  \n",
      " 3   age     432 non-null    int64  \n",
      " 4   race    432 non-null    int64  \n",
      " 5   wexp    432 non-null    int64  \n",
      " 6   mar     432 non-null    int64  \n",
      " 7   paro    432 non-null    int64  \n",
      " 8   prio    432 non-null    int64  \n",
      " 9   educ    432 non-null    int64  \n",
      " 10  emp1    432 non-null    int64  \n",
      " 11  emp2    431 non-null    float64\n",
      " 12  emp3    430 non-null    float64\n",
      " 13  emp4    429 non-null    float64\n",
      " 14  emp5    428 non-null    float64\n",
      " 15  emp6    427 non-null    float64\n",
      " 16  emp7    426 non-null    float64\n",
      " 17  emp8    425 non-null    float64\n",
      " 18  emp9    420 non-null    float64\n",
      " 19  emp10   418 non-null    float64\n",
      " 20  emp11   417 non-null    float64\n",
      " 21  emp12   415 non-null    float64\n",
      " 22  emp13   413 non-null    float64\n",
      " 23  emp14   412 non-null    float64\n",
      " 24  emp15   409 non-null    float64\n",
      " 25  emp16   407 non-null    float64\n",
      " 26  emp17   405 non-null    float64\n",
      " 27  emp18   402 non-null    float64\n",
      " 28  emp19   399 non-null    float64\n",
      " 29  emp20   397 non-null    float64\n",
      " 30  emp21   392 non-null    float64\n",
      " 31  emp22   390 non-null    float64\n",
      " 32  emp23   389 non-null    float64\n",
      " 33  emp24   388 non-null    float64\n",
      " 34  emp25   384 non-null    float64\n",
      " 35  emp26   381 non-null    float64\n",
      " 36  emp27   378 non-null    float64\n",
      " 37  emp28   376 non-null    float64\n",
      " 38  emp29   374 non-null    float64\n",
      " 39  emp30   374 non-null    float64\n",
      " 40  emp31   372 non-null    float64\n",
      " 41  emp32   371 non-null    float64\n",
      " 42  emp33   369 non-null    float64\n",
      " 43  emp34   367 non-null    float64\n",
      " 44  emp35   365 non-null    float64\n",
      " 45  emp36   361 non-null    float64\n",
      " 46  emp37   358 non-null    float64\n",
      " 47  emp38   354 non-null    float64\n",
      " 48  emp39   353 non-null    float64\n",
      " 49  emp40   351 non-null    float64\n",
      " 50  emp41   347 non-null    float64\n",
      " 51  emp42   347 non-null    float64\n",
      " 52  emp43   345 non-null    float64\n",
      " 53  emp44   341 non-null    float64\n",
      " 54  emp45   339 non-null    float64\n",
      " 55  emp46   337 non-null    float64\n",
      " 56  emp47   333 non-null    float64\n",
      " 57  emp48   332 non-null    float64\n",
      " 58  emp49   330 non-null    float64\n",
      " 59  emp50   325 non-null    float64\n",
      " 60  emp51   322 non-null    float64\n",
      " 61  emp52   322 non-null    float64\n",
      "dtypes: float64(51), int64(11)\n",
      "memory usage: 209.4 KB\n"
     ]
    }
   ],
   "source": [
    "df.info()"
   ]
  },
  {
   "cell_type": "code",
   "execution_count": 8,
   "id": "9fdd963f-4dbe-4dfc-806e-4ef7380c9fb1",
   "metadata": {},
   "outputs": [
    {
     "data": {
      "text/plain": [
       "<bound method NDFrame.describe of      week  arrest  fin  age  race  wexp  mar  paro  prio  educ  ...  emp43  \\\n",
       "0      20       1    0   27     1     0    0     1     3     3  ...    NaN   \n",
       "1      17       1    0   18     1     0    0     1     8     4  ...    NaN   \n",
       "2      25       1    0   19     0     1    0     1    13     3  ...    NaN   \n",
       "3      52       0    1   23     1     1    1     1     1     5  ...    1.0   \n",
       "4      52       0    0   19     0     1    0     1     3     3  ...    0.0   \n",
       "..    ...     ...  ...  ...   ...   ...  ...   ...   ...   ...  ...    ...   \n",
       "427    52       0    1   31     0     1    0     1     3     3  ...    1.0   \n",
       "428    52       0    0   20     1     0    0     1     1     4  ...    1.0   \n",
       "429    52       0    1   20     1     1    1     1     1     3  ...    0.0   \n",
       "430    52       0    0   29     1     1    0     1     3     4  ...    1.0   \n",
       "431    52       0    1   24     1     1    0     1     1     4  ...    1.0   \n",
       "\n",
       "     emp44  emp45  emp46  emp47  emp48  emp49  emp50  emp51  emp52  \n",
       "0      NaN    NaN    NaN    NaN    NaN    NaN    NaN    NaN    NaN  \n",
       "1      NaN    NaN    NaN    NaN    NaN    NaN    NaN    NaN    NaN  \n",
       "2      NaN    NaN    NaN    NaN    NaN    NaN    NaN    NaN    NaN  \n",
       "3      1.0    1.0    1.0    1.0    1.0    1.0    1.0    1.0    1.0  \n",
       "4      0.0    0.0    0.0    0.0    0.0    0.0    0.0    0.0    0.0  \n",
       "..     ...    ...    ...    ...    ...    ...    ...    ...    ...  \n",
       "427    1.0    1.0    1.0    0.0    0.0    0.0    0.0    0.0    0.0  \n",
       "428    0.0    0.0    0.0    0.0    0.0    0.0    0.0    0.0    0.0  \n",
       "429    0.0    0.0    0.0    0.0    1.0    0.0    0.0    0.0    0.0  \n",
       "430    1.0    1.0    1.0    1.0    1.0    1.0    1.0    1.0    1.0  \n",
       "431    1.0    1.0    1.0    1.0    1.0    1.0    1.0    1.0    1.0  \n",
       "\n",
       "[432 rows x 62 columns]>"
      ]
     },
     "execution_count": 8,
     "metadata": {},
     "output_type": "execute_result"
    }
   ],
   "source": [
    "df.describe"
   ]
  },
  {
   "cell_type": "code",
   "execution_count": 9,
   "id": "ff478a52-44c3-4d54-9b25-d1691ce86cc4",
   "metadata": {},
   "outputs": [],
   "source": [
    "# Select the 'arrest' and 'emp52' columns\n",
    "selected_cols = ['arrest', 'emp52']\n",
    "df_selected = df[selected_cols]"
   ]
  },
  {
   "cell_type": "code",
   "execution_count": 10,
   "id": "3e43f2e2-e5a1-4936-85d3-efbd7757c5fd",
   "metadata": {},
   "outputs": [],
   "source": [
    "# Compute the correlation matrix\n",
    "correlation_matrix = df_selected.corr()"
   ]
  },
  {
   "cell_type": "code",
   "execution_count": 11,
   "id": "b2f0895b-54cf-4bc8-aa28-29d14b5195ce",
   "metadata": {},
   "outputs": [
    {
     "name": "stdout",
     "output_type": "stream",
     "text": [
      "          arrest     emp52\n",
      "arrest  1.000000 -0.059589\n",
      "emp52  -0.059589  1.000000\n"
     ]
    }
   ],
   "source": [
    "# Print the correlation matrix\n",
    "print(correlation_matrix)"
   ]
  },
  {
   "cell_type": "code",
   "execution_count": 12,
   "id": "a8b1730b-70ea-404e-9a3c-0b81a3ebd38a",
   "metadata": {},
   "outputs": [],
   "source": [
    "# Select the columns representing employment status for each week after release\n",
    "emp_cols = ['emp1', 'emp2', 'emp3', 'emp4', 'emp5', 'emp6', 'emp7', 'emp8', 'emp9', 'emp10', 'emp11', 'emp12', 'emp13', 'emp14', 'emp15', 'emp16', 'emp17', 'emp18', 'emp19', 'emp20', 'emp21', 'emp22', 'emp23', 'emp24', 'emp25', 'emp26', 'emp27', 'emp28', 'emp29', 'emp30', 'emp31', 'emp32', 'emp33', 'emp34', 'emp35', 'emp36', 'emp37', 'emp38', 'emp39', 'emp40', 'emp41', 'emp42', 'emp43', 'emp44', 'emp45', 'emp46', 'emp47', 'emp48', 'emp49', 'emp50', 'emp51', 'emp52']\n",
    "df_emp = df[emp_cols]"
   ]
  },
  {
   "cell_type": "code",
   "execution_count": 18,
   "id": "75050e98-80d7-4cc3-8de5-e704276121f9",
   "metadata": {},
   "outputs": [
    {
     "ename": "ValueError",
     "evalue": "too many inputs",
     "output_type": "error",
     "traceback": [
      "\u001b[0;31m---------------------------------------------------------------------------\u001b[0m",
      "\u001b[0;31mValueError\u001b[0m                                Traceback (most recent call last)",
      "Cell \u001b[0;32mIn[18], line 6\u001b[0m\n\u001b[1;32m      3\u001b[0m df_emp \u001b[38;5;241m=\u001b[39m df[emp_cols]\n\u001b[1;32m      5\u001b[0m \u001b[38;5;66;03m# Filter the rows where all the employment status columns have a value of zero\u001b[39;00m\n\u001b[0;32m----> 6\u001b[0m df_unemployed \u001b[38;5;241m=\u001b[39m \u001b[43mdf_emp\u001b[49m\u001b[38;5;241;43m.\u001b[39;49m\u001b[43mquery\u001b[49m\u001b[43m(\u001b[49m\u001b[38;5;124;43m'\u001b[39;49m\u001b[38;5;124;43memp1 == 0 and emp2 == 0 and emp3 == 0 and emp4 == 0 and emp5 == 0 and emp6 == 0 and emp7 == 0 and emp8 == 0 and emp9 == 0 and emp10 == 0 and emp11 == 0 and emp12 == 0 and emp13 == 0 and emp14 == 0 and emp15 == 0 and emp16 == 0 and emp17 == 0 and emp18 == 0 and emp19 == 0 and emp20 == 0 and emp21 == 0 and emp22 == 0 and emp23 == 0 and emp24 == 0 and emp25 == 0 and emp26 == 0 and emp27 == 0 and emp28 == 0 and emp29 == 0 and emp30 == 0 and emp31 == 0 and emp32 == 0 and emp33 == 0 and emp34 == 0 and emp35 == 0 and emp36 == 0 and emp37 == 0 and emp38 == 0 and emp39 == 0 and emp40 == 0 and emp41 == 0 and emp42 == 0 and emp43 == 0 and emp44 == 0 and emp45 == 0 and emp46 == 0 and emp47 == 0 and emp48 == 0 and emp49 == 0 and emp50 == 0 and emp51 == 0 and emp52 == 0\u001b[39;49m\u001b[38;5;124;43m'\u001b[39;49m\u001b[43m)\u001b[49m\n\u001b[1;32m      8\u001b[0m \u001b[38;5;66;03m# Extract the \"id\" column from the original data frame\u001b[39;00m\n\u001b[1;32m      9\u001b[0m df_unemployed \u001b[38;5;241m=\u001b[39m df_unemployed\u001b[38;5;241m.\u001b[39mjoin(df[\u001b[38;5;124m'\u001b[39m\u001b[38;5;124mid\u001b[39m\u001b[38;5;124m'\u001b[39m])\n",
      "File \u001b[0;32m~/anaconda3/lib/python3.10/site-packages/pandas/util/_decorators.py:331\u001b[0m, in \u001b[0;36mdeprecate_nonkeyword_arguments.<locals>.decorate.<locals>.wrapper\u001b[0;34m(*args, **kwargs)\u001b[0m\n\u001b[1;32m    325\u001b[0m \u001b[38;5;28;01mif\u001b[39;00m \u001b[38;5;28mlen\u001b[39m(args) \u001b[38;5;241m>\u001b[39m num_allow_args:\n\u001b[1;32m    326\u001b[0m     warnings\u001b[38;5;241m.\u001b[39mwarn(\n\u001b[1;32m    327\u001b[0m         msg\u001b[38;5;241m.\u001b[39mformat(arguments\u001b[38;5;241m=\u001b[39m_format_argument_list(allow_args)),\n\u001b[1;32m    328\u001b[0m         \u001b[38;5;167;01mFutureWarning\u001b[39;00m,\n\u001b[1;32m    329\u001b[0m         stacklevel\u001b[38;5;241m=\u001b[39mfind_stack_level(),\n\u001b[1;32m    330\u001b[0m     )\n\u001b[0;32m--> 331\u001b[0m \u001b[38;5;28;01mreturn\u001b[39;00m \u001b[43mfunc\u001b[49m\u001b[43m(\u001b[49m\u001b[38;5;241;43m*\u001b[39;49m\u001b[43margs\u001b[49m\u001b[43m,\u001b[49m\u001b[43m \u001b[49m\u001b[38;5;241;43m*\u001b[39;49m\u001b[38;5;241;43m*\u001b[39;49m\u001b[43mkwargs\u001b[49m\u001b[43m)\u001b[49m\n",
      "File \u001b[0;32m~/anaconda3/lib/python3.10/site-packages/pandas/core/frame.py:4474\u001b[0m, in \u001b[0;36mDataFrame.query\u001b[0;34m(self, expr, inplace, **kwargs)\u001b[0m\n\u001b[1;32m   4472\u001b[0m kwargs[\u001b[38;5;124m\"\u001b[39m\u001b[38;5;124mlevel\u001b[39m\u001b[38;5;124m\"\u001b[39m] \u001b[38;5;241m=\u001b[39m kwargs\u001b[38;5;241m.\u001b[39mpop(\u001b[38;5;124m\"\u001b[39m\u001b[38;5;124mlevel\u001b[39m\u001b[38;5;124m\"\u001b[39m, \u001b[38;5;241m0\u001b[39m) \u001b[38;5;241m+\u001b[39m \u001b[38;5;241m2\u001b[39m\n\u001b[1;32m   4473\u001b[0m kwargs[\u001b[38;5;124m\"\u001b[39m\u001b[38;5;124mtarget\u001b[39m\u001b[38;5;124m\"\u001b[39m] \u001b[38;5;241m=\u001b[39m \u001b[38;5;28;01mNone\u001b[39;00m\n\u001b[0;32m-> 4474\u001b[0m res \u001b[38;5;241m=\u001b[39m \u001b[38;5;28;43mself\u001b[39;49m\u001b[38;5;241;43m.\u001b[39;49m\u001b[43meval\u001b[49m\u001b[43m(\u001b[49m\u001b[43mexpr\u001b[49m\u001b[43m,\u001b[49m\u001b[43m \u001b[49m\u001b[38;5;241;43m*\u001b[39;49m\u001b[38;5;241;43m*\u001b[39;49m\u001b[43mkwargs\u001b[49m\u001b[43m)\u001b[49m\n\u001b[1;32m   4476\u001b[0m \u001b[38;5;28;01mtry\u001b[39;00m:\n\u001b[1;32m   4477\u001b[0m     result \u001b[38;5;241m=\u001b[39m \u001b[38;5;28mself\u001b[39m\u001b[38;5;241m.\u001b[39mloc[res]\n",
      "File \u001b[0;32m~/anaconda3/lib/python3.10/site-packages/pandas/util/_decorators.py:331\u001b[0m, in \u001b[0;36mdeprecate_nonkeyword_arguments.<locals>.decorate.<locals>.wrapper\u001b[0;34m(*args, **kwargs)\u001b[0m\n\u001b[1;32m    325\u001b[0m \u001b[38;5;28;01mif\u001b[39;00m \u001b[38;5;28mlen\u001b[39m(args) \u001b[38;5;241m>\u001b[39m num_allow_args:\n\u001b[1;32m    326\u001b[0m     warnings\u001b[38;5;241m.\u001b[39mwarn(\n\u001b[1;32m    327\u001b[0m         msg\u001b[38;5;241m.\u001b[39mformat(arguments\u001b[38;5;241m=\u001b[39m_format_argument_list(allow_args)),\n\u001b[1;32m    328\u001b[0m         \u001b[38;5;167;01mFutureWarning\u001b[39;00m,\n\u001b[1;32m    329\u001b[0m         stacklevel\u001b[38;5;241m=\u001b[39mfind_stack_level(),\n\u001b[1;32m    330\u001b[0m     )\n\u001b[0;32m--> 331\u001b[0m \u001b[38;5;28;01mreturn\u001b[39;00m \u001b[43mfunc\u001b[49m\u001b[43m(\u001b[49m\u001b[38;5;241;43m*\u001b[39;49m\u001b[43margs\u001b[49m\u001b[43m,\u001b[49m\u001b[43m \u001b[49m\u001b[38;5;241;43m*\u001b[39;49m\u001b[38;5;241;43m*\u001b[39;49m\u001b[43mkwargs\u001b[49m\u001b[43m)\u001b[49m\n",
      "File \u001b[0;32m~/anaconda3/lib/python3.10/site-packages/pandas/core/frame.py:4612\u001b[0m, in \u001b[0;36mDataFrame.eval\u001b[0;34m(self, expr, inplace, **kwargs)\u001b[0m\n\u001b[1;32m   4609\u001b[0m     kwargs[\u001b[38;5;124m\"\u001b[39m\u001b[38;5;124mtarget\u001b[39m\u001b[38;5;124m\"\u001b[39m] \u001b[38;5;241m=\u001b[39m \u001b[38;5;28mself\u001b[39m\n\u001b[1;32m   4610\u001b[0m kwargs[\u001b[38;5;124m\"\u001b[39m\u001b[38;5;124mresolvers\u001b[39m\u001b[38;5;124m\"\u001b[39m] \u001b[38;5;241m=\u001b[39m \u001b[38;5;28mtuple\u001b[39m(kwargs\u001b[38;5;241m.\u001b[39mget(\u001b[38;5;124m\"\u001b[39m\u001b[38;5;124mresolvers\u001b[39m\u001b[38;5;124m\"\u001b[39m, ())) \u001b[38;5;241m+\u001b[39m resolvers\n\u001b[0;32m-> 4612\u001b[0m \u001b[38;5;28;01mreturn\u001b[39;00m \u001b[43m_eval\u001b[49m\u001b[43m(\u001b[49m\u001b[43mexpr\u001b[49m\u001b[43m,\u001b[49m\u001b[43m \u001b[49m\u001b[43minplace\u001b[49m\u001b[38;5;241;43m=\u001b[39;49m\u001b[43minplace\u001b[49m\u001b[43m,\u001b[49m\u001b[43m \u001b[49m\u001b[38;5;241;43m*\u001b[39;49m\u001b[38;5;241;43m*\u001b[39;49m\u001b[43mkwargs\u001b[49m\u001b[43m)\u001b[49m\n",
      "File \u001b[0;32m~/anaconda3/lib/python3.10/site-packages/pandas/core/computation/eval.py:358\u001b[0m, in \u001b[0;36meval\u001b[0;34m(expr, parser, engine, truediv, local_dict, global_dict, resolvers, level, target, inplace)\u001b[0m\n\u001b[1;32m    356\u001b[0m eng \u001b[38;5;241m=\u001b[39m ENGINES[engine]\n\u001b[1;32m    357\u001b[0m eng_inst \u001b[38;5;241m=\u001b[39m eng(parsed_expr)\n\u001b[0;32m--> 358\u001b[0m ret \u001b[38;5;241m=\u001b[39m \u001b[43meng_inst\u001b[49m\u001b[38;5;241;43m.\u001b[39;49m\u001b[43mevaluate\u001b[49m\u001b[43m(\u001b[49m\u001b[43m)\u001b[49m\n\u001b[1;32m    360\u001b[0m \u001b[38;5;28;01mif\u001b[39;00m parsed_expr\u001b[38;5;241m.\u001b[39massigner \u001b[38;5;129;01mis\u001b[39;00m \u001b[38;5;28;01mNone\u001b[39;00m:\n\u001b[1;32m    361\u001b[0m     \u001b[38;5;28;01mif\u001b[39;00m multi_line:\n",
      "File \u001b[0;32m~/anaconda3/lib/python3.10/site-packages/pandas/core/computation/engines.py:81\u001b[0m, in \u001b[0;36mAbstractEngine.evaluate\u001b[0;34m(self)\u001b[0m\n\u001b[1;32m     78\u001b[0m     \u001b[38;5;28mself\u001b[39m\u001b[38;5;241m.\u001b[39mresult_type, \u001b[38;5;28mself\u001b[39m\u001b[38;5;241m.\u001b[39maligned_axes \u001b[38;5;241m=\u001b[39m align_terms(\u001b[38;5;28mself\u001b[39m\u001b[38;5;241m.\u001b[39mexpr\u001b[38;5;241m.\u001b[39mterms)\n\u001b[1;32m     80\u001b[0m \u001b[38;5;66;03m# make sure no names in resolvers and locals/globals clash\u001b[39;00m\n\u001b[0;32m---> 81\u001b[0m res \u001b[38;5;241m=\u001b[39m \u001b[38;5;28;43mself\u001b[39;49m\u001b[38;5;241;43m.\u001b[39;49m\u001b[43m_evaluate\u001b[49m\u001b[43m(\u001b[49m\u001b[43m)\u001b[49m\n\u001b[1;32m     82\u001b[0m \u001b[38;5;28;01mreturn\u001b[39;00m reconstruct_object(\n\u001b[1;32m     83\u001b[0m     \u001b[38;5;28mself\u001b[39m\u001b[38;5;241m.\u001b[39mresult_type, res, \u001b[38;5;28mself\u001b[39m\u001b[38;5;241m.\u001b[39maligned_axes, \u001b[38;5;28mself\u001b[39m\u001b[38;5;241m.\u001b[39mexpr\u001b[38;5;241m.\u001b[39mterms\u001b[38;5;241m.\u001b[39mreturn_type\n\u001b[1;32m     84\u001b[0m )\n",
      "File \u001b[0;32m~/anaconda3/lib/python3.10/site-packages/pandas/core/computation/engines.py:122\u001b[0m, in \u001b[0;36mNumExprEngine._evaluate\u001b[0;34m(self)\u001b[0m\n\u001b[1;32m    120\u001b[0m scope \u001b[38;5;241m=\u001b[39m env\u001b[38;5;241m.\u001b[39mfull_scope\n\u001b[1;32m    121\u001b[0m _check_ne_builtin_clash(\u001b[38;5;28mself\u001b[39m\u001b[38;5;241m.\u001b[39mexpr)\n\u001b[0;32m--> 122\u001b[0m \u001b[38;5;28;01mreturn\u001b[39;00m \u001b[43mne\u001b[49m\u001b[38;5;241;43m.\u001b[39;49m\u001b[43mevaluate\u001b[49m\u001b[43m(\u001b[49m\u001b[43ms\u001b[49m\u001b[43m,\u001b[49m\u001b[43m \u001b[49m\u001b[43mlocal_dict\u001b[49m\u001b[38;5;241;43m=\u001b[39;49m\u001b[43mscope\u001b[49m\u001b[43m)\u001b[49m\n",
      "File \u001b[0;32m~/anaconda3/lib/python3.10/site-packages/numexpr/necompiler.py:835\u001b[0m, in \u001b[0;36mevaluate\u001b[0;34m(ex, local_dict, global_dict, out, order, casting, **kwargs)\u001b[0m\n\u001b[1;32m    833\u001b[0m _numexpr_last \u001b[38;5;241m=\u001b[39m \u001b[38;5;28mdict\u001b[39m(ex\u001b[38;5;241m=\u001b[39mcompiled_ex, argnames\u001b[38;5;241m=\u001b[39mnames, kwargs\u001b[38;5;241m=\u001b[39mkwargs)\n\u001b[1;32m    834\u001b[0m \u001b[38;5;28;01mwith\u001b[39;00m evaluate_lock:\n\u001b[0;32m--> 835\u001b[0m     \u001b[38;5;28;01mreturn\u001b[39;00m \u001b[43mcompiled_ex\u001b[49m\u001b[43m(\u001b[49m\u001b[38;5;241;43m*\u001b[39;49m\u001b[43marguments\u001b[49m\u001b[43m,\u001b[49m\u001b[43m \u001b[49m\u001b[38;5;241;43m*\u001b[39;49m\u001b[38;5;241;43m*\u001b[39;49m\u001b[43mkwargs\u001b[49m\u001b[43m)\u001b[49m\n",
      "\u001b[0;31mValueError\u001b[0m: too many inputs"
     ]
    }
   ],
   "source": [
    "# Select the columns representing employment status for each week after release\n",
    "emp_cols = ['emp1', 'emp2', 'emp3', 'emp4', 'emp5', 'emp6', 'emp7', 'emp8', 'emp9', 'emp10', 'emp11', 'emp12', 'emp13', 'emp14', 'emp15', 'emp16', 'emp17', 'emp18', 'emp19', 'emp20', 'emp21', 'emp22', 'emp23', 'emp24', 'emp25', 'emp26', 'emp27', 'emp28', 'emp29', 'emp30', 'emp31', 'emp32', 'emp33', 'emp34', 'emp35', 'emp36', 'emp37', 'emp38', 'emp39', 'emp40', 'emp41', 'emp42', 'emp43', 'emp44', 'emp45', 'emp46', 'emp47', 'emp48', 'emp49', 'emp50', 'emp51', 'emp52']\n",
    "df_emp = df[emp_cols]\n",
    "\n",
    "# Filter the rows where all the employment status columns have a value of zero\n",
    "df_unemployed = df_emp.query('emp1 == 0 and emp2 == 0 and emp3 == 0 and emp4 == 0 and emp5 == 0 and emp6 == 0 and emp7 == 0 and emp8 == 0 and emp9 == 0 and emp10 == 0 and emp11 == 0 and emp12 == 0 and emp13 == 0 and emp14 == 0 and emp15 == 0 and emp16 == 0 and emp17 == 0 and emp18 == 0 and emp19 == 0 and emp20 == 0 and emp21 == 0 and emp22 == 0 and emp23 == 0 and emp24 == 0 and emp25 == 0 and emp26 == 0 and emp27 == 0 and emp28 == 0 and emp29 == 0 and emp30 == 0 and emp31 == 0 and emp32 == 0 and emp33 == 0 and emp34 == 0 and emp35 == 0 and emp36 == 0 and emp37 == 0 and emp38 == 0 and emp39 == 0 and emp40 == 0 and emp41 == 0 and emp42 == 0 and emp43 == 0 and emp44 == 0 and emp45 == 0 and emp46 == 0 and emp47 == 0 and emp48 == 0 and emp49 == 0 and emp50 == 0 and emp51 == 0 and emp52 == 0')\n",
    "\n",
    "# Extract the \"id\" column from the original data frame\n",
    "df_unemployed = df_unemployed.join(df['id'])\n",
    "\n",
    "# Print the convict IDs of the convicts who were never employed\n",
    "print(df_unemployed['id'])"
   ]
  },
  {
   "cell_type": "code",
   "execution_count": 21,
   "id": "add8d454-a119-4ac9-93c9-0225101d2bb6",
   "metadata": {},
   "outputs": [
    {
     "name": "stdout",
     "output_type": "stream",
     "text": [
      "['emp1', 'emp2', 'emp3', 'emp4', 'emp5', 'emp6', 'emp7', 'emp8', 'emp9', 'emp10', 'emp11', 'emp12', 'emp13', 'emp14', 'emp15', 'emp16', 'emp17', 'emp18', 'emp19', 'emp20', 'emp21', 'emp22', 'emp23', 'emp24', 'emp25', 'emp26', 'emp27', 'emp28', 'emp29', 'emp30', 'emp31', 'emp32', 'emp33', 'emp34', 'emp35', 'emp36', 'emp37', 'emp38', 'emp39', 'emp40', 'emp41', 'emp42', 'emp43', 'emp44', 'emp45', 'emp46', 'emp47', 'emp48', 'emp49', 'emp50', 'emp51', 'emp52']\n",
      "The percentage of convicts with financial aid who were employed after release is 83.8%\n"
     ]
    }
   ],
   "source": [
    "import pandas as pd\n",
    "\n",
    "# Load the dataset\n",
    "data = pd.read_csv(\"arrest data.csv\")\n",
    "\n",
    "# Create a list of columns for employment status for each week\n",
    "employment_cols = [\"emp\" + str(i) for i in range(1, 53)]\n",
    "\n",
    "print(employment_cols)\n",
    "\n",
    "# Calculate the percentage of individuals with financial aid who were employed after release\n",
    "received_aid_employed_rate = round((data[data[\"fin\"] == 1][employment_cols].sum(axis=1) > 0).sum() / len(data[data[\"fin\"] == 1]) * 100, 1)\n",
    "\n",
    "print(f\"The percentage of convicts with financial aid who were employed after release is {received_aid_employed_rate}%\")"
   ]
  },
  {
   "cell_type": "code",
   "execution_count": 20,
   "id": "a9bb6a2a-29a3-46f6-b6e7-14ebed1f3263",
   "metadata": {},
   "outputs": [
    {
     "name": "stdout",
     "output_type": "stream",
     "text": [
      "The percentage of convicts with financial aid who were employed after release is 2222.7%\n"
     ]
    }
   ],
   "source": [
    "import pandas as pd\n",
    "\n",
    "# Load the dataset\n",
    "data = pd.read_csv(\"arrest data.csv\")\n",
    "\n",
    "# Create a list of columns for employment status for each week\n",
    "employment_cols = [\"emp\" + str(i) for i in range(1, 53)]\n",
    "\n",
    "# Calculate the percentage of individuals with financial aid who were employed after release\n",
    "received_aid_employed_rate = round((data[data[\"fin\"] == 1][employment_cols].sum().sum() / len(data[data[\"fin\"] == 1])) * 100, 1)\n",
    "\n",
    "print(f\"The percentage of convicts with financial aid who were employed after release is {received_aid_employed_rate}%\")\n"
   ]
  },
  {
   "cell_type": "code",
   "execution_count": 22,
   "id": "2869823b-77e1-4046-b854-5a62b6dbef9b",
   "metadata": {},
   "outputs": [
    {
     "name": "stdout",
     "output_type": "stream",
     "text": [
      "The percentage of convicts with financial aid who were employed after release is 83.8%\n"
     ]
    }
   ],
   "source": [
    "import pandas as pd\n",
    "\n",
    "# Load the dataset\n",
    "data = pd.read_csv(\"arrest data.csv\")\n",
    "\n",
    "# Create a list of columns for employment status for each week\n",
    "employment_cols = [\"emp\" + str(i) for i in range(1, 53)]\n",
    "\n",
    "# Calculate the percentage of individuals with financial aid who were employed after release\n",
    "received_aid_employed_rate = round((data[data[\"fin\"] == 1][employment_cols].sum(axis=1) > 0).sum() / len(data[data[\"fin\"] == 1]) * 100, 1)\n",
    "\n",
    "print(f\"The percentage of convicts with financial aid who were employed after release is {received_aid_employed_rate}%\")\n"
   ]
  },
  {
   "cell_type": "code",
   "execution_count": null,
   "id": "ad49e11c-256b-4c17-bcd3-3613d103b6b8",
   "metadata": {},
   "outputs": [],
   "source": []
  }
 ],
 "metadata": {
  "kernelspec": {
   "display_name": "Python 3 (ipykernel)",
   "language": "python",
   "name": "python3"
  },
  "language_info": {
   "codemirror_mode": {
    "name": "ipython",
    "version": 3
   },
   "file_extension": ".py",
   "mimetype": "text/x-python",
   "name": "python",
   "nbconvert_exporter": "python",
   "pygments_lexer": "ipython3",
   "version": "3.10.9"
  }
 },
 "nbformat": 4,
 "nbformat_minor": 5
}
